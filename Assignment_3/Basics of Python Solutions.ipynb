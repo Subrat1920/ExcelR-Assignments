{
 "cells": [
  {
   "cell_type": "markdown",
   "id": "258e59b3-08da-4a75-8d50-4dbcf8de17c1",
   "metadata": {},
   "source": [
    "# <span style='color:#7ED4AD'>ASSIGNMENT 3</Span>\n",
    "## <span style='color:#D76C82'>PYTHON PROGRAMMING ASSIGNMENTS</Span>"
   ]
  },
  {
   "cell_type": "markdown",
   "id": "c5a6f9ad-32ca-41bb-9a30-824b810bc24b",
   "metadata": {},
   "source": [
    "### <span style=\"color:#B03052\">Execrcise 1: PRIME NUMBER</span>\n",
    "##### Write a Python program that checks whether a given number is prime or not. A prime number is a natural number greater than 1 that has no positive divisors other than 1 and itself."
   ]
  },
  {
   "cell_type": "markdown",
   "id": "59c2e87d-b70f-42f0-9957-5bce843e4d87",
   "metadata": {},
   "source": [
    "### <span style=\"color:#B03052\">Explanation for Exercise 1</span>\n",
    "    1. The function checks if n is ≤ 1. If so, it returns that n is not a prime number, as primes are defined as natural numbers greater than 1.\n",
    "    2. It iterates from 2 to the square root of n to find potential divisors. If n has no divisors up to its square root, it won’t have any beyond that.\n",
    "    3. Inside the loop, it checks if n % i == 0. If true, n is not prime.\n",
    "    4. If no divisors are found, the function concludes that n is prime and returns the appropriate message.\n",
    "    "
   ]
  },
  {
   "cell_type": "code",
   "execution_count": 49,
   "id": "0abfa578-e71e-4caa-856d-092dc7a0b350",
   "metadata": {},
   "outputs": [],
   "source": [
    "def primeNumber(n):\n",
    "     # Return false for numbers <= 1, as they are not prime\n",
    "    if n <= 1:\n",
    "        return f'The number {n} is not a Prime Number'\n",
    "     \n",
    "    # Check for factors from 2 to the square root of n\n",
    "    for i in range(2, int(n**0.5)+1):\n",
    "        if n % i == 0:  # If n is divisible by i, it's not prime\n",
    "            return f'The number {n} is not a Prime Number'\n",
    "    return f'The number {n} is a Prime Number' # No divisors found, n is prime"
   ]
  },
  {
   "cell_type": "markdown",
   "id": "94845ddb-edec-4df8-b17e-3022094ef80c",
   "metadata": {},
   "source": [
    "### <span style=\"color:#B03052\">Test Cases for Execrcise 1</span>"
   ]
  },
  {
   "cell_type": "code",
   "execution_count": 7,
   "id": "45fd0faa-0bc6-4eb7-b890-4eb03ca7c663",
   "metadata": {},
   "outputs": [
    {
     "name": "stdout",
     "output_type": "stream",
     "text": [
      "The number 5 is a Prime Number\n",
      "The number 9 is not a Prime Number\n",
      "The number 10 is not a Prime Number\n",
      "The number 13 is a Prime Number\n",
      "The number 17 is a Prime Number\n",
      "The number 19 is a Prime Number\n"
     ]
    }
   ],
   "source": [
    "numbers = [5, 9, 10, 13, 17, 19]\n",
    "\n",
    "for i in numbers:\n",
    "    print(primeNumber(i))"
   ]
  },
  {
   "cell_type": "markdown",
   "id": "be5a5189-60be-44f3-9d1b-bf822031a4dd",
   "metadata": {},
   "source": [
    "### <span style=\"color:#B03052\">Execrcise 2: PRODUCT OF RANDOM NUMBERS</span>\n",
    "##### Develop a Python program that generates two random numbers and asks the user to enter the product of these numbers. The program should then check if the user's answer is correct and display an appropriate message."
   ]
  },
  {
   "cell_type": "markdown",
   "id": "eb683446-da48-4a74-8dc0-6e91d2434c53",
   "metadata": {},
   "source": [
    "### <span style=\"color:#B03052\">Explanation for Execrcise 2</span>\n",
    "    1. Generate two random integers between 1 and 10.\n",
    "    2. Prompt the user to calculate the product of these numbers.\n",
    "    3. Check if the user's answer matches the correct product.\n",
    "    4. Return a message indicating whether the answer was correct or not."
   ]
  },
  {
   "cell_type": "code",
   "execution_count": 51,
   "id": "dd37de15-dc8f-452b-a9b6-d1c5ac45032e",
   "metadata": {},
   "outputs": [],
   "source": [
    "import numpy as np\n",
    "from numpy import random\n",
    "def product_random_numbers():\n",
    "    # Generate two random integers between 1 and 10\n",
    "    num1 = random.randint(1, 10) # randint => random integers between 1 to 10\n",
    "    num2 = random.randint(1, 10)\n",
    "\n",
    "    # Ask the user for the product of the two numbers\n",
    "    print(f'What is the product of {num1} and {num2}')\n",
    "    # Get user input\n",
    "    ans = int(input('State your answer'))\n",
    "\n",
    "    # check if the user's answer is correct\n",
    "    if ans==(num1*num2):\n",
    "        return f'Congrats, the answer is {num1*num2}'\n",
    "    else:\n",
    "        return f'Better Luck Next Time, the correct answer is {num1*num2}'"
   ]
  },
  {
   "cell_type": "markdown",
   "id": "395ec1f2-bd53-4607-b810-aadb50df70fd",
   "metadata": {},
   "source": [
    "### <span style=\"color:#B03052\">Test Cases for Execrcise 2</span>"
   ]
  },
  {
   "cell_type": "code",
   "execution_count": 16,
   "id": "a3c243fc-1871-4e44-a12a-205e6b961fb8",
   "metadata": {},
   "outputs": [
    {
     "name": "stdout",
     "output_type": "stream",
     "text": [
      "What is the product of 8 and 8\n"
     ]
    },
    {
     "name": "stdin",
     "output_type": "stream",
     "text": [
      "State your answer 64\n"
     ]
    },
    {
     "data": {
      "text/plain": [
       "'Congrats, the answer is 64'"
      ]
     },
     "execution_count": 16,
     "metadata": {},
     "output_type": "execute_result"
    }
   ],
   "source": [
    "# Test Case 1\n",
    "product_random_numbers()"
   ]
  },
  {
   "cell_type": "code",
   "execution_count": 17,
   "id": "55ae54d1-a6ca-4d59-ae89-f8f15cb8212b",
   "metadata": {},
   "outputs": [
    {
     "name": "stdout",
     "output_type": "stream",
     "text": [
      "What is the product of 3 and 7\n"
     ]
    },
    {
     "name": "stdin",
     "output_type": "stream",
     "text": [
      "State your answer 1\n"
     ]
    },
    {
     "data": {
      "text/plain": [
       "'Better Luck Next Time, the correct answer is 21'"
      ]
     },
     "execution_count": 17,
     "metadata": {},
     "output_type": "execute_result"
    }
   ],
   "source": [
    "# Test Case 2\n",
    "product_random_numbers()"
   ]
  },
  {
   "cell_type": "markdown",
   "id": "cedf8721-7dda-4765-9d31-bc732def5b14",
   "metadata": {},
   "source": [
    "### <span style=\"color:#B03052\">Execrcise 3: SQUARES OF EVEN/ODD NUMBERS</span>\n",
    "##### Create a Python script that prints the squares of all even or odd numbers within the range of 100 to 200. Choose either even or odd numbers and document your choice in the code."
   ]
  },
  {
   "cell_type": "markdown",
   "id": "1654e3d4-853c-4f05-b9c1-5eef52e1c867",
   "metadata": {},
   "source": [
    "### <span style=\"color:#B03052\">Explanation for Execrcise 3</span>\n",
    "    1. The function will give all the even and odd sqaured in the range of 100 - 200.\n",
    "    2. We will take a response from the user whether if he need an output for odd number or even number between the range of 100-200.\n",
    "    3. Then we will just transform the response to upper-case in case the user have given the input in lower-case.\n",
    "    4. Depend upon the response user gives, the function will give the output of all the square for even or odd.\n",
    "    5. And at last if the user have given any other input other then 'odd' or 'even', it will just say to enter the prompt as required."
   ]
  },
  {
   "cell_type": "code",
   "execution_count": 52,
   "id": "ae37f83a-2d9a-411d-8f10-3137e5003638",
   "metadata": {},
   "outputs": [],
   "source": [
    "def even_odd(response):\n",
    "    if response.upper() == \"ODD\": # change the response 'odd' to upper case\n",
    "        return [i**2 for i in range(100, 201) if i % 2 != 0] # list comprehension to get squares of all odd numbers\n",
    "    elif response.upper() == \"EVEN\": # change the response 'odd' to upper case\n",
    "        return [i**2 for i in range(100, 201) if i % 2 == 0] # list comprehension to get squares of all odd numbers\n",
    "    else:\n",
    "        return 'Enter odd or even'"
   ]
  },
  {
   "cell_type": "markdown",
   "id": "94207721-d10e-45b7-9f4b-868906546156",
   "metadata": {},
   "source": [
    "### <span style=\"color:#B03052\">Test Cases for Execrcise 3</span>"
   ]
  },
  {
   "cell_type": "code",
   "execution_count": 30,
   "id": "1c02b785-2704-4a51-9248-34d62e6edc17",
   "metadata": {},
   "outputs": [
    {
     "name": "stdin",
     "output_type": "stream",
     "text": [
      "Enter your choice (ODD/EVEN):  odd\n"
     ]
    },
    {
     "name": "stdout",
     "output_type": "stream",
     "text": [
      "10201, 10609, 11025, 11449, 11881, 12321, 12769, 13225, 13689, 14161, 14641, 15129, 15625, 16129, 16641, 17161, 17689, 18225, 18769, 19321, 19881, 20449, 21025, 21609, 22201, 22801, 23409, 24025, 24649, 25281, 25921, 26569, 27225, 27889, 28561, 29241, 29929, 30625, 31329, 32041, 32761, 33489, 34225, 34969, 35721, 36481, 37249, 38025, 38809, 39601\n"
     ]
    }
   ],
   "source": [
    "response = input('Enter your choice (ODD/EVEN): ')\n",
    "result = even_odd(response)  \n",
    "\n",
    "print(*result, sep=\", \")"
   ]
  },
  {
   "cell_type": "markdown",
   "id": "7938daf7-5d50-48c4-913d-9cfb6e9f9c6f",
   "metadata": {},
   "source": [
    "### <span style=\"color:#B03052\">Execrcise 4: WORD COUNTER</span>\n",
    "##### Write a program to count the number of words in a given text."
   ]
  },
  {
   "cell_type": "markdown",
   "id": "d37a7930-e177-4ff6-a517-16b7884d1036",
   "metadata": {},
   "source": [
    "### <span style=\"color:#B03052\">Explanation for Execrcise 4</span>\n",
    "    1. The function converts the input text to lowercase to ensure case-insensitive counting. It then splits the text into words using whitespace as the delimiter\n",
    "    2. It creates an empty dictionary word_count to store each unique word as a key and its count as the value.\n",
    "    3. The function iterates over the list of words obtained from the split operation.\n",
    "    4. During each iteration, the function strips punctuation characters (like ., ,, !, ?, etc.) from the word. It then checks if the stripped word is non-empty (if i:) to avoid counting empty strings.\n",
    "    5. If the word already exists in word_count, its count is incremented. Otherwise, it is added to the dictionary with an initial count of 1.\n",
    "    6. The function returns the word_count dictionary containing each word and its corresponding count."
   ]
  },
  {
   "cell_type": "code",
   "execution_count": 53,
   "id": "e1356da6-2196-4e3f-a94d-2543448d9c3b",
   "metadata": {},
   "outputs": [],
   "source": [
    "def word_counter(text):\n",
    "    # Convert the text to lowercase to count words in a case-insensitive manner\n",
    "    words = text.lower().split()\n",
    "    # Create an empty dictionary to store word counts\n",
    "    word_count = {}\n",
    "    # Iterate over each word in the split words list\n",
    "    for i in words:\n",
    "        # Remove punctuation marks from the word\n",
    "        word = i.strip('.,!?\"\\'')\n",
    "        # Check if the stripped word is not empty\n",
    "        if i:\n",
    "        # If the word already exists in the dictionary, increment its count\n",
    "            if i in word_count:\n",
    "                word_count[word] +=1\n",
    "            else:\n",
    "                # If the word is not yet in the dictionary, add it with an initial count of 1\n",
    "                word_count[word] =1\n",
    "    # Return the dictionary containing the words and their counts\n",
    "    return word_count"
   ]
  },
  {
   "cell_type": "markdown",
   "id": "62993eb2-776f-4feb-be20-120c2554c722",
   "metadata": {},
   "source": [
    "### <span style=\"color:#B03052\">Test Cases for Execrcise 4</span>"
   ]
  },
  {
   "cell_type": "code",
   "execution_count": 40,
   "id": "ea46c45c-5064-4e65-b502-8f2dff0814d1",
   "metadata": {},
   "outputs": [
    {
     "name": "stdin",
     "output_type": "stream",
     "text": [
      "Enter Your Text for word count:  This is a sample text. This text will be used to demonstrate the word counter.\n"
     ]
    },
    {
     "name": "stdout",
     "output_type": "stream",
     "text": [
      "'this':2\n",
      "'is':1\n",
      "'a':1\n",
      "'sample':1\n",
      "'text':2\n",
      "'will':1\n",
      "'be':1\n",
      "'used':1\n",
      "'to':1\n",
      "'demonstrate':1\n",
      "'the':1\n",
      "'word':1\n",
      "'counter':1\n"
     ]
    }
   ],
   "source": [
    "input_text = input('Enter Your Text for word count: ')\n",
    "result = word_counter(input_text)\n",
    "for word, count in result.items():\n",
    "    print(f\"'{word}':{count}\")"
   ]
  },
  {
   "cell_type": "markdown",
   "id": "fd1e6b8c-40d5-4f63-93bc-dea4214a9ed8",
   "metadata": {},
   "source": [
    "### <span style=\"color:#B03052\">Execrcise 5: CHECK FOR PALINDROME</span>\n",
    "##### Write a Python function called is_palindrome that takes a string as input and returns True if the string is a palindrome, and False otherwise. A palindrome is a word, phrase, number, or other sequence of characters that reads the same forward and backward, ignoring spaces, punctuation, and capitalization."
   ]
  },
  {
   "cell_type": "markdown",
   "id": "923e12ea-075d-466a-be64-f09a57129a01",
   "metadata": {},
   "source": [
    "### <span style=\"color:#B03052\">Explanation for Execrcise 5</span>\n",
    "    1.  The function takes the input text and reverses it using slicing with a step of -1 (text[::-1]). This creates a reversed version of the string.\n",
    "    2. It checks if the original text is equal to its reversed version. If they are the same, then text is a palindrome (reads the same forwards and backwards).\n",
    "    3. If text and its reverse are the same, the function returns True, indicating that text is a palindrome.\n",
    "    4. Otherwise, it returns False."
   ]
  },
  {
   "cell_type": "code",
   "execution_count": 54,
   "id": "86250f00-02b7-4499-ab64-cc20828d08a0",
   "metadata": {},
   "outputs": [],
   "source": [
    "def palindrome(text):\n",
    "    # Check if the original text is equal to its reverse\n",
    "    if text==text[::-1]:\n",
    "        return True # Return True if the text is a palindrome\n",
    "    else:\n",
    "        return False # Return False if the text is not a palindrome"
   ]
  },
  {
   "cell_type": "markdown",
   "id": "b3c86836-3bba-4e85-9009-668f5df449b3",
   "metadata": {},
   "source": [
    "### <span style=\"color:#B03052\">Test Cases for Execrcise 5</span>"
   ]
  },
  {
   "cell_type": "code",
   "execution_count": 48,
   "id": "498f6295-60e9-4530-ab64-e2d0e9bb4533",
   "metadata": {},
   "outputs": [
    {
     "name": "stdout",
     "output_type": "stream",
     "text": [
      "True\n",
      "False\n",
      "True\n",
      "True\n",
      "False\n"
     ]
    }
   ],
   "source": [
    "text = ['racecar', 'hyderabad', 'abcba', '12321', 'telengana']\n",
    "for i in text:\n",
    "    print(palindrome(i))"
   ]
  }
 ],
 "metadata": {
  "kernelspec": {
   "display_name": "Python 3 (ipykernel)",
   "language": "python",
   "name": "python3"
  },
  "language_info": {
   "codemirror_mode": {
    "name": "ipython",
    "version": 3
   },
   "file_extension": ".py",
   "mimetype": "text/x-python",
   "name": "python",
   "nbconvert_exporter": "python",
   "pygments_lexer": "ipython3",
   "version": "3.11.5"
  }
 },
 "nbformat": 4,
 "nbformat_minor": 5
}
