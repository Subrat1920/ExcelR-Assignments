{
 "cells": [
  {
   "cell_type": "markdown",
   "id": "7547f47f-506b-4569-924c-8105e34ebcb5",
   "metadata": {},
   "source": [
    "# <span style='color:#3A6D8C'>ASSIGNMENT 4</span>\n",
    "## <span style='color:#697565'>CHI-SQUARE TEST</span> "
   ]
  },
  {
   "cell_type": "markdown",
   "id": "916b43b0-a689-4880-92c3-9446e9adca8d",
   "metadata": {},
   "source": [
    "##### <span style='color:#9A7E6F'>BACKGROUND</span>\n",
    "    Mizzare Corporation has collected data on customer satisfaction levels for two types of smart home devices: Smart Thermostats and Smart Lights. They want to determine if there's a significant association between the type of device purchased and the customer's satisfaction level.\n",
    "\n",
    "##### <span style='color:#9A7E6F'>OBJECTIVE</span>\n",
    "    TMizzare Corporation has collected data on customer satisfaction levels for two types of smart home devices: Smart Thermostats and Smart Lights. They want to determine if there's a significant association between the type of device purchased and the customer's satisfaction level.\n",
    "\n",
    "##### <span style='color:#9A7E6F'>PROVIDED DATA</span>\n",
    "    First of all, lets convert the given data into a DataFrame"
   ]
  },
  {
   "cell_type": "markdown",
   "id": "35ca1641-d111-4385-bd90-1e0ff2c99cec",
   "metadata": {},
   "source": [
    "### <span style='color:#CB9DF0'>DATA PREPARATION</span>"
   ]
  },
  {
   "cell_type": "code",
   "execution_count": 12,
   "id": "7ab379d3-246c-4746-b6a7-fe12194d64c0",
   "metadata": {},
   "outputs": [
    {
     "data": {
      "text/html": [
       "<div>\n",
       "<style scoped>\n",
       "    .dataframe tbody tr th:only-of-type {\n",
       "        vertical-align: middle;\n",
       "    }\n",
       "\n",
       "    .dataframe tbody tr th {\n",
       "        vertical-align: top;\n",
       "    }\n",
       "\n",
       "    .dataframe thead th {\n",
       "        text-align: right;\n",
       "    }\n",
       "</style>\n",
       "<table border=\"1\" class=\"dataframe\">\n",
       "  <thead>\n",
       "    <tr style=\"text-align: right;\">\n",
       "      <th></th>\n",
       "      <th>Satisfaction</th>\n",
       "      <th>Smart Thermostat</th>\n",
       "      <th>Smart Light</th>\n",
       "      <th>Total</th>\n",
       "    </tr>\n",
       "  </thead>\n",
       "  <tbody>\n",
       "    <tr>\n",
       "      <th>0</th>\n",
       "      <td>Very Satisfied</td>\n",
       "      <td>50</td>\n",
       "      <td>70</td>\n",
       "      <td>120</td>\n",
       "    </tr>\n",
       "    <tr>\n",
       "      <th>1</th>\n",
       "      <td>Satisfied</td>\n",
       "      <td>80</td>\n",
       "      <td>100</td>\n",
       "      <td>180</td>\n",
       "    </tr>\n",
       "    <tr>\n",
       "      <th>2</th>\n",
       "      <td>Neutral</td>\n",
       "      <td>60</td>\n",
       "      <td>90</td>\n",
       "      <td>150</td>\n",
       "    </tr>\n",
       "    <tr>\n",
       "      <th>3</th>\n",
       "      <td>Unsatisfied</td>\n",
       "      <td>30</td>\n",
       "      <td>50</td>\n",
       "      <td>80</td>\n",
       "    </tr>\n",
       "    <tr>\n",
       "      <th>4</th>\n",
       "      <td>Very Unsatisfied</td>\n",
       "      <td>20</td>\n",
       "      <td>50</td>\n",
       "      <td>70</td>\n",
       "    </tr>\n",
       "    <tr>\n",
       "      <th>5</th>\n",
       "      <td>Total</td>\n",
       "      <td>240</td>\n",
       "      <td>360</td>\n",
       "      <td>600</td>\n",
       "    </tr>\n",
       "  </tbody>\n",
       "</table>\n",
       "</div>"
      ],
      "text/plain": [
       "       Satisfaction  Smart Thermostat  Smart Light  Total\n",
       "0    Very Satisfied                50           70    120\n",
       "1         Satisfied                80          100    180\n",
       "2           Neutral                60           90    150\n",
       "3       Unsatisfied                30           50     80\n",
       "4  Very Unsatisfied                20           50     70\n",
       "5             Total               240          360    600"
      ]
     },
     "execution_count": 12,
     "metadata": {},
     "output_type": "execute_result"
    }
   ],
   "source": [
    "import pandas as pd\n",
    "\n",
    "\n",
    "# Create the data as a DataFrame\n",
    "data = {\n",
    "    \"Satisfaction\": [\"Very Satisfied\", \"Satisfied\", \"Neutral\", \"Unsatisfied\", \"Very Unsatisfied\", \"Total\"],\n",
    "    \"Smart Thermostat\": [50, 80, 60, 30, 20, 240],\n",
    "    \"Smart Light\": [70, 100, 90, 50, 50, 360],\n",
    "    \"Total\": [120, 180, 150, 80, 70, 600]\n",
    "}\n",
    "\n",
    "df = pd.DataFrame(data)\n",
    "df"
   ]
  },
  {
   "cell_type": "markdown",
   "id": "7de88238-5499-499e-b5b6-d0eebf3c2303",
   "metadata": {},
   "source": [
    "### <span style='color:#CB9DF0'>ASSIGNMNET TASKS</span>"
   ]
  },
  {
   "cell_type": "markdown",
   "id": "24412200-42da-456e-a59f-e9567553a9c0",
   "metadata": {},
   "source": [
    "#### <span style='color:#A64D79'>1. State the Hypothesis</span>\n",
    "##### Stating the Hypothesis:\n",
    "    Null Hypothesis (H0) :- No association between the type of device purchased and customer satisfaction level.\n",
    "    \n",
    "    Alternative Hypothesis (H1) :- There is an association between the type of device purchased and customer satisfaction level."
   ]
  },
  {
   "cell_type": "markdown",
   "id": "b92f66dd-355b-408f-8d12-e95662036057",
   "metadata": {},
   "source": [
    "#### <span style='color:#A64D79'>2. Compute the Chi-Square Statistic</span>"
   ]
  },
  {
   "cell_type": "code",
   "execution_count": 5,
   "id": "d24757dd-efed-4a3b-ae15-ed2e5495fdfa",
   "metadata": {},
   "outputs": [],
   "source": [
    "import pandas as pd\n",
    "import numpy as np\n",
    "from scipy.stats import chi2_contingency, chi2"
   ]
  },
  {
   "cell_type": "code",
   "execution_count": 7,
   "id": "32510b80-e8bd-4b88-bad8-9d463d5d44bc",
   "metadata": {},
   "outputs": [],
   "source": [
    "df.head()\n",
    "df.set_index('Satisfaction', inplace=True)"
   ]
  },
  {
   "cell_type": "code",
   "execution_count": 8,
   "id": "c3bb08c2-cb34-406c-9910-65d03a10acb0",
   "metadata": {},
   "outputs": [
    {
     "data": {
      "text/html": [
       "<div>\n",
       "<style scoped>\n",
       "    .dataframe tbody tr th:only-of-type {\n",
       "        vertical-align: middle;\n",
       "    }\n",
       "\n",
       "    .dataframe tbody tr th {\n",
       "        vertical-align: top;\n",
       "    }\n",
       "\n",
       "    .dataframe thead th {\n",
       "        text-align: right;\n",
       "    }\n",
       "</style>\n",
       "<table border=\"1\" class=\"dataframe\">\n",
       "  <thead>\n",
       "    <tr style=\"text-align: right;\">\n",
       "      <th></th>\n",
       "      <th>Smart Thermostat</th>\n",
       "      <th>Smart Light</th>\n",
       "      <th>Total</th>\n",
       "    </tr>\n",
       "    <tr>\n",
       "      <th>Satisfaction</th>\n",
       "      <th></th>\n",
       "      <th></th>\n",
       "      <th></th>\n",
       "    </tr>\n",
       "  </thead>\n",
       "  <tbody>\n",
       "    <tr>\n",
       "      <th>Very Satisfied</th>\n",
       "      <td>50</td>\n",
       "      <td>70</td>\n",
       "      <td>120</td>\n",
       "    </tr>\n",
       "    <tr>\n",
       "      <th>Satisfied</th>\n",
       "      <td>80</td>\n",
       "      <td>100</td>\n",
       "      <td>180</td>\n",
       "    </tr>\n",
       "    <tr>\n",
       "      <th>Neutral</th>\n",
       "      <td>60</td>\n",
       "      <td>90</td>\n",
       "      <td>150</td>\n",
       "    </tr>\n",
       "    <tr>\n",
       "      <th>Unsatisfied</th>\n",
       "      <td>30</td>\n",
       "      <td>50</td>\n",
       "      <td>80</td>\n",
       "    </tr>\n",
       "    <tr>\n",
       "      <th>Very Unsatisfied</th>\n",
       "      <td>20</td>\n",
       "      <td>50</td>\n",
       "      <td>70</td>\n",
       "    </tr>\n",
       "  </tbody>\n",
       "</table>\n",
       "</div>"
      ],
      "text/plain": [
       "                  Smart Thermostat  Smart Light  Total\n",
       "Satisfaction                                          \n",
       "Very Satisfied                  50           70    120\n",
       "Satisfied                       80          100    180\n",
       "Neutral                         60           90    150\n",
       "Unsatisfied                     30           50     80\n",
       "Very Unsatisfied                20           50     70"
      ]
     },
     "execution_count": 8,
     "metadata": {},
     "output_type": "execute_result"
    }
   ],
   "source": [
    "df.head()"
   ]
  },
  {
   "cell_type": "code",
   "execution_count": 17,
   "id": "65a8911e-d5cb-4ca5-8e8a-814d986430c3",
   "metadata": {},
   "outputs": [],
   "source": [
    "# scipy.stats.chi2_contingency is used to perform the Chi-Square test.\n",
    "# It returns:\n",
    "# The Chi-Square Statistic (chi2_stat),\n",
    "# The p-value\n",
    "# Degree of Freedom\n",
    "# The expected frequencies if the null hypothesis were true\n",
    "chi2_stat, p_value, dof, expected = chi2_contingency(df)"
   ]
  },
  {
   "cell_type": "code",
   "execution_count": 18,
   "id": "62bfb444-ef37-4769-b327-4b7801a2f56a",
   "metadata": {},
   "outputs": [
    {
     "name": "stdout",
     "output_type": "stream",
     "text": [
      "Observed Values are \n",
      "                  Smart Thermostat  Smart Light\n",
      "Satisfaction                                   \n",
      "Very Satisfied                  50           70\n",
      "Satisfied                       80          100\n",
      "Neutral                         60           90\n",
      "Unsatisfied                     30           50\n",
      "Very Unsatisfied                20           50\n",
      "\n",
      " Expected Frequencies \n",
      "                  Smart Thermostat  Smart Light\n",
      "Satisfaction                                   \n",
      "Very Satisfied                48.0         72.0\n",
      "Satisfied                     72.0        108.0\n",
      "Neutral                       60.0         90.0\n",
      "Unsatisfied                   32.0         48.0\n",
      "Very Unsatisfied              28.0         42.0\n"
     ]
    }
   ],
   "source": [
    "print(f\"Observed Values are \\n{df}\")\n",
    "print(f\"\\n Expected Frequencies \\n{pd.DataFrame(expected, columns=df.columns, index=df.index)}\")"
   ]
  },
  {
   "cell_type": "code",
   "execution_count": 19,
   "id": "311a3269-0414-4059-ab18-d0d685d613ac",
   "metadata": {},
   "outputs": [
    {
     "name": "stdout",
     "output_type": "stream",
     "text": [
      "Chi-Square Statistic is 5.638227513227513\n",
      "Degree of Freedom is 4\n",
      "P-Value is 0.22784371130697179\n"
     ]
    }
   ],
   "source": [
    "print(f'Chi-Square Statistic is {chi2_stat}')\n",
    "print(f'Degree of Freedom is {dof}')\n",
    "print(f'P-Value is {p_value}')"
   ]
  },
  {
   "cell_type": "markdown",
   "id": "2686cb3a-03cd-4fc9-b9c0-0f66209cb37f",
   "metadata": {},
   "source": [
    "##### Findings of the above Tasks\n",
    "    We can clearly see that:\n",
    "        1. Chi-Square Statistic = 5.6\n",
    "        2. Degree of Freedom (DOF) = 10\n",
    "        3. P-Value = 0.84\n",
    "    "
   ]
  },
  {
   "cell_type": "markdown",
   "id": "2d87dd39-201a-474e-af2f-a2e29f93c0a1",
   "metadata": {},
   "source": [
    "#### <span style='color:#A64D79'>3. Determine the Critical Value:</span>\n",
    "##### Using the significance level (alpha) of 0.05 and the degrees of freedom (which is the number of categories minus 1)"
   ]
  },
  {
   "cell_type": "code",
   "execution_count": 20,
   "id": "ca51568e-cd5a-46f3-9656-b48f2f4b074e",
   "metadata": {},
   "outputs": [
    {
     "name": "stdout",
     "output_type": "stream",
     "text": [
      "Critical value at alpha 0.05 is 9.487729036781154\n"
     ]
    }
   ],
   "source": [
    "# Determine the Critical Value\n",
    "# We are using a significance level of 0.05\n",
    "alpha = 0.05\n",
    "critical_value = chi2.ppf(1-alpha, dof)\n",
    "print(f'Critical value at alpha {alpha} is {critical_value}')"
   ]
  },
  {
   "cell_type": "markdown",
   "id": "708b26bb-0a3c-4631-98fc-417a0eeaa27e",
   "metadata": {},
   "source": [
    "#### <span style='color:#A64D79'>4. Make a Decision:</span>\n",
    "##### Compare the Chi-Square statistic with the critical value to decide whether to reject the null Hypothesis"
   ]
  },
  {
   "cell_type": "code",
   "execution_count": 22,
   "id": "e06b9e58-22af-44e3-90b8-74b6ce247ec0",
   "metadata": {},
   "outputs": [
    {
     "name": "stdout",
     "output_type": "stream",
     "text": [
      "Conclusion: Fail to reject the null hypothesis (H0)\n",
      "There is no significant association between the type of device and customer satisfaction\n"
     ]
    }
   ],
   "source": [
    "# Making a Decision\n",
    "if chi2_stat > critical_value:\n",
    "    print('Conclusion: Reject the null hypothesi (H0)')\n",
    "    print('There is a significant association between the type of device and customer satisfaction.')\n",
    "else:\n",
    "    print('Conclusion: Fail to reject the null hypothesis (H0)')\n",
    "    print('There is no significant association between the type of device and customer satisfaction')"
   ]
  },
  {
   "cell_type": "markdown",
   "id": "dda14363-13a5-441f-9d30-75e5a1843139",
   "metadata": {},
   "source": [
    "#### <span style='color:#A64D79'>FINAL CONCLUSION:</span>\n",
    "##### Henece, the final conclusion is that we will reject the null hypothesis, there is no association between the type of device and customer satisfaction."
   ]
  }
 ],
 "metadata": {
  "kernelspec": {
   "display_name": "Python 3 (ipykernel)",
   "language": "python",
   "name": "python3"
  },
  "language_info": {
   "codemirror_mode": {
    "name": "ipython",
    "version": 3
   },
   "file_extension": ".py",
   "mimetype": "text/x-python",
   "name": "python",
   "nbconvert_exporter": "python",
   "pygments_lexer": "ipython3",
   "version": "3.11.5"
  }
 },
 "nbformat": 4,
 "nbformat_minor": 5
}
