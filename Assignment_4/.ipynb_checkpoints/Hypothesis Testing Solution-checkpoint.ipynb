{
 "cells": [
  {
   "cell_type": "markdown",
   "id": "8f268df9-dd60-46dc-805e-0343a216bafd",
   "metadata": {},
   "source": [
    "# <span style='color:#3A6D8C'>ASSIGNMENT 4</span>\n",
    "## <span style='color:#697565'>HYPOTHESIS TESTING</span> "
   ]
  },
  {
   "cell_type": "markdown",
   "id": "8172bc50-ef3f-4022-a798-09b4dee1e982",
   "metadata": {},
   "source": [
    "##### <span style='color:#9A7E6F'>BACKGROUND</span>\n",
    "    Bombay hospitality Ltd. operates a franchise model for producing exotic Norwegian dinners throughout New England. The operating cost for a franchise in a week (W) is given by the equation W = $1,000 + $5X, where X represents the number of units produced in a week. Recent feedback from restaurant owners suggests that this cost model may no longer be accurate, as their observed weekly operating costs are higher.\n",
    "\n",
    "##### <span style='color:#9A7E6F'>OBJECTIVE</span>\n",
    "    To investigate the restaurant owners' claim about the increase in weekly operating costs using hypothesis testing.\n",
    "\n",
    "##### <span style='color:#9A7E6F'>PROVIDED DATA</span>\n",
    "    1. The theoretical weekly operating cost model: W = $1,000 + $5X\n",
    "    2. Sample of 25 restaurants with a mean weekly cost of Rs. 3,050\n",
    "    3. Number of units produced in a week (X) follows a normal distribution with a mean (μ) of 600 units and a standard deviation (σ) of 25 units\n"
   ]
  },
  {
   "cell_type": "markdown",
   "id": "a24e56e3-cd9e-4121-b1e9-63b13f317c83",
   "metadata": {},
   "source": [
    "### <span style='color:#6A9AB0'>Assignment Tasks</span>\n",
    "#### <span style='color:#508D4E'>Findings of the Problem Statement</span>\n",
    "    1.The Owner of the Restaurant claims that the mean weekly operating cost model is: W = $1000 + $5X. Or we can also write the mean as\n",
    "         W = 1000 + 5X\n",
    "    2. Sample Size (n) = 25\n",
    "    3. Mean Weekly Cost (`x`) = 3050\n",
    "    4. Number of Units produced (X) = 600\n",
    "    5. Sample Standard Deviation (σ) = 25 * 5 Units"
   ]
  },
  {
   "attachments": {},
   "cell_type": "markdown",
   "id": "376c29c9-f2e9-461e-8e9d-655de3fdcbbc",
   "metadata": {},
   "source": [
    "#### <span style='color:#6A9AB0'>1. State the Hypothesis Statement</span>\n",
    "##### Stating the Hypothesis Statement\n",
    "    We can take two hypothetical variance Null Hypothesis (Ho) and Alternative Hypothesis (H1).\n",
    "    Null Hypothesis, Ho => The theroritical model accurately represents the weekly operating cost i.e., \n",
    "        μ = 1000 + 5X\n",
    "    Alternative Hypothesis , H1 => The observed weekly operating costs are higher that the theoretical model ie., \n",
    "        μ > 1000 + 5X\n",
    "    "
   ]
  },
  {
   "cell_type": "markdown",
   "id": "2b79a979-ad6c-4cee-a473-18cb350eb7eb",
   "metadata": {},
   "source": [
    "#### <span style='color:#6A9AB0'>2. Calculate the Test Statistic</span>\n",
    "So, as per the question and Hypothetical Statement, it is clear that we have to find out whether the mean is greater/ smaller/ equal to the given mean. So, clearly it is a one tailed question.\n",
    "##### And so, we will perform One Sample T-Test to the problem\n",
    "    1. Weekly Predicting Model W = 1000 + 5 * (600) = 4000\n",
    "    2. sample mean = 3050\n",
    "    3. population mean / W = 4000\n",
    "    4. sample size = 25\n",
    "    5. standard deviation = 25 * 5\n",
    "\n",
    "                  (sample mean) + (population mean)\n",
    "                 -----------------------------------\n",
    "    T-Score =               sample size\n",
    "                 -----------------------------------\n",
    "                        ___________________\n",
    "                       / standard deviation"
   ]
  },
  {
   "cell_type": "markdown",
   "id": "00d6faf8-fbae-4045-85cb-3c0318b3ca7b",
   "metadata": {},
   "source": [
    "#### <span style='color:#508D4E'>Performing Python Implemntation</span>"
   ]
  },
  {
   "cell_type": "code",
   "execution_count": 34,
   "id": "2eb0eaa7-a0a8-4437-82f7-eafb64ec219a",
   "metadata": {},
   "outputs": [],
   "source": [
    "import math\n",
    "import numpy as np\n",
    "\n",
    "def test_stats(sam_mean, theo_mean, std, n):\n",
    "    return abs((sam_mean - theo_mean) / (std / np.sqrt(n)))\n",
    "    "
   ]
  },
  {
   "cell_type": "code",
   "execution_count": 35,
   "id": "2d3ae787-d2f7-4328-8825-d41434927063",
   "metadata": {},
   "outputs": [
    {
     "name": "stdout",
     "output_type": "stream",
     "text": [
      "The Test Statistic is 38.0\n"
     ]
    }
   ],
   "source": [
    "sam_mean = 3050\n",
    "theo_mean = 4000\n",
    "std = 125\n",
    "n = 25\n",
    "print(f'The Test Statistic is {test_stats(sam_mean, theo_mean, std, n)}')"
   ]
  },
  {
   "cell_type": "markdown",
   "id": "03107197-42c8-4c29-940a-a0ec05192920",
   "metadata": {},
   "source": [
    "#### <span style='color:#508D4E'>Addresing the findings</span>\n",
    "##### So, from the above calculation we can conclude for now that the Test Statistic is found to be 38."
   ]
  },
  {
   "cell_type": "markdown",
   "id": "6430819a-1c1e-4099-b7ff-3b8bd7b2bcff",
   "metadata": {},
   "source": [
    "#### <span style='color:#6A9AB0'>3. Determine the Critical Value</span>\n",
    "Using the alpha level of 5% (α = 0.05), determine the critical value from the standard normal (Z) distribution table.\n",
    "##### Formula for calculating Critical Value\n",
    "    critical value  = t(alpha/2, degree of freedom) \n",
    "    Use T-Table to find the value of the critical value, find dof in top of the t-table and alpha value at left most column.\n",
    "\n",
    "    With\n",
    "        Alpha = 0.05\n",
    "        Degree of Freedom = sample size - 1 = 25 - 1 = 24\n"
   ]
  },
  {
   "cell_type": "markdown",
   "id": "450b28aa-d972-4ab6-a323-6b288dad6185",
   "metadata": {},
   "source": [
    "#### <span style='color:#508D4E'>Performing Python Implementation</span>"
   ]
  },
  {
   "cell_type": "code",
   "execution_count": 41,
   "id": "f739fa9a-1260-4541-afc9-73ccb72766f7",
   "metadata": {},
   "outputs": [],
   "source": [
    "from scipy.stats import norm\n",
    "def critic_value(alpha, dof=n-1):\n",
    "    return round(stats.t.ppf(1 - alpha/2, dof))"
   ]
  },
  {
   "cell_type": "code",
   "execution_count": 42,
   "id": "9e18f0c4-850a-491f-bd9b-b70311e8056b",
   "metadata": {},
   "outputs": [
    {
     "name": "stdout",
     "output_type": "stream",
     "text": [
      "So the critical value found to be 2\n"
     ]
    }
   ],
   "source": [
    "alpha = 0.05\n",
    "print(f'So the critical value found to be {critic_value(alpha)}')"
   ]
  },
  {
   "cell_type": "markdown",
   "id": "c7e5d52c-21ba-435b-bf1d-7d4c888dd9a9",
   "metadata": {},
   "source": [
    "#### <span style='color:#6A9AB0'>4. Make a Decision</span>\n",
    "##### Our decision will be based on STATISTICAL TEST and CRITICAL VALUE we got.\n",
    "    if Statistical Value > Critical Value:\n",
    "        we can say that the Restaurant's Owner was correct.\n",
    "    if Statitical Value < Critical Value:\n",
    "        then we can say that the Restaurant's Owner was incorrect."
   ]
  },
  {
   "cell_type": "markdown",
   "id": "35555e1d-6fd6-4e2c-9e44-d906484b7347",
   "metadata": {},
   "source": [
    "#### <span style='color:#508D4E'>Performing Python Implementation</span>"
   ]
  },
  {
   "cell_type": "code",
   "execution_count": 38,
   "id": "03b26772-7123-473e-b3b2-8fe4957c6feb",
   "metadata": {},
   "outputs": [],
   "source": [
    "def conclusion(test, critical):\n",
    "    reject_null = test > critical\n",
    "    if reject_null:\n",
    "        return \"There is strong evidence to support the restaurant owner's claim that the weekly operating costs are higher than the model suggests.\"\n",
    "    else:\n",
    "        return \"There is not enough evidence to support the restaurant owners' claim that the weekly operating costs are higher than the model suggests.\""
   ]
  },
  {
   "cell_type": "code",
   "execution_count": 40,
   "id": "6691e45a-20b5-4efc-99f8-51f8a20f9ff4",
   "metadata": {},
   "outputs": [
    {
     "name": "stdout",
     "output_type": "stream",
     "text": [
      "So our Final Conclusion is that There is strong evidence to support the restaurant owner's claim that the weekly operating costs are higher than the model suggests.\n"
     ]
    }
   ],
   "source": [
    "test = test_stats(sam_mean, theo_mean, std, n)\n",
    "critical = critic_value(alpha)\n",
    "print(f'So our Final Conclusion is that {conclusion(test, critical)}')"
   ]
  },
  {
   "cell_type": "markdown",
   "id": "f479cd38-ba91-46c5-9b30-e6465790765a",
   "metadata": {},
   "source": [
    "### <span style='color:#508D4E'>Final Conclusion</span>\n",
    "#### So, the findings of our test is that, we can strongly agree on owner's claim."
   ]
  },
  {
   "cell_type": "code",
   "execution_count": null,
   "id": "1348c690-9693-4805-a0ff-255616b47669",
   "metadata": {},
   "outputs": [],
   "source": []
  }
 ],
 "metadata": {
  "kernelspec": {
   "display_name": "Python 3 (ipykernel)",
   "language": "python",
   "name": "python3"
  },
  "language_info": {
   "codemirror_mode": {
    "name": "ipython",
    "version": 3
   },
   "file_extension": ".py",
   "mimetype": "text/x-python",
   "name": "python",
   "nbconvert_exporter": "python",
   "pygments_lexer": "ipython3",
   "version": "3.11.5"
  }
 },
 "nbformat": 4,
 "nbformat_minor": 5
}
