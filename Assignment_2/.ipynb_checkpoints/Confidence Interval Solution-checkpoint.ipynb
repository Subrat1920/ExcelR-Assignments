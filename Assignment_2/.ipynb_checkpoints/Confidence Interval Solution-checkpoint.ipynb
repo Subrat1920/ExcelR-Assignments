{
 "cells": [
  {
   "cell_type": "markdown",
   "id": "593363ca-cfb1-4734-8915-f459c95a01d7",
   "metadata": {},
   "source": [
    "# <span style='color:#522258'>ASSIGNMENT 2</Span>\n",
    "## <span style='color:#522258'>ESTIMATION AND CONFIDENCE INTERVAL</Span>"
   ]
  },
  {
   "cell_type": "markdown",
   "id": "ed5ed3b9-b82a-4ecc-9f34-1635927f680c",
   "metadata": {},
   "source": [
    "##### <span style='color:#C7253E'>Background</span>\n",
    "    In quality control processes, especially when dealing with high-value items, destructive sampling is a necessary but costly method to ensure product quality. The test to determine whether an item meets the quality standards destroys the item, leading to the requirement of small sample sizes due to cost constraints.\n",
    "##### <span style='color:#C7253E'>Scenario</span>\n",
    "    A manufacturer of print-heads for personal computers is interested in estimating the mean durability of their print-heads in terms of the number of characters printed before failure. To assess this, the manufacturer conducts a study on a small sample of print-heads due to the destructive nature of the testing process.\n",
    "\n",
    "##### <span style='color:#C7253E'>Data</span>\n",
    "    A total of 15 print-heads were randomly selected and tested until failure. The durability of each print-head (in millions of characters) was recorded as follows:\n",
    "    1.13, 1.55, 1.43, 0.92, 1.25, 1.36, 1.32, 0.85, 1.07, 1.48, 1.20, 1.33, 1.18, 1.22, 1.29\n"
   ]
  },
  {
   "cell_type": "markdown",
   "id": "b6f58c2b-52ad-497d-8c01-191938b73599",
   "metadata": {},
   "source": [
    "#### <span style='color:#FABC3F'>PRE-REQUISITE STEPS</span>\n",
    "##### <span style='color:#E85C0D'>STEP 1:</span>\n",
    "    First of all let's covert the given sample data into an array\n",
    "##### <span style='color:#E85C0D'>STEP 2:</span>\n",
    "    Find the mean, standard deviation (std), size of the sample data (n) and Degree of Freedom (dof) of the given sample data.\n",
    "    Also address the given CI (Confidence Interval) and the Alpha Value (Significance Value)"
   ]
  },
  {
   "cell_type": "code",
   "execution_count": 5,
   "id": "338eda82-21ec-4199-9ec2-cce0684b86a2",
   "metadata": {},
   "outputs": [
    {
     "name": "stdout",
     "output_type": "stream",
     "text": [
      "The sample size is 15\n",
      "The mean of the sample is 1.24\n",
      "The standard deviation of the sample is 0.19\n",
      "The Degree of Freedom of the sample is 14\n",
      "The confidence interval from the question is 0.99\n",
      "The significance value derived from CI is 0.01\n"
     ]
    }
   ],
   "source": [
    "import numpy as np\n",
    "\n",
    "sam = np.array([1.13, 1.55, 1.43, 0.92, 1.25, 1.36, 1.32, 0.85, 1.07, 1.48, 1.20, 1.33, 1.18, 1.22, 1.29])\n",
    "\n",
    "# calculating the size of sample\n",
    "n = len(sam)\n",
    "\n",
    "#calculating the mean of the sample\n",
    "mean = sam.mean()\n",
    "\n",
    "#calculating the standard deviation of the sample\n",
    "std = sam.std()\n",
    "\n",
    "#calculating the degree of freedom (DOF) of the sample\n",
    "dof = n -1\n",
    "\n",
    "#addressing confidence interval from the question\n",
    "ci = 0.99\n",
    "\n",
    "#deriving the alpha value / significance value form the confidence interval\n",
    "alpha = 1 - ci\n",
    "\n",
    "print(f'The sample size is {n}')\n",
    "print(f'The mean of the sample is {round(mean, 2)}')\n",
    "print(f'The standard deviation of the sample is {round(std, 2)}')\n",
    "print(f'The Degree of Freedom of the sample is {dof}')\n",
    "print(f'The confidence interval from the question is {ci}')\n",
    "print(f'The significance value derived from CI is {round(alpha, 2)}')"
   ]
  },
  {
   "cell_type": "markdown",
   "id": "af2ef251-1040-4e73-b294-205d6e862528",
   "metadata": {},
   "source": [
    "### <span style='color:#FABC3F'>TASK 1:</span>\n",
    "##### <span style='color:#C7253E'>Build 99% Confidence Interval Using Sample Standard Deviation</span>\n",
    "    Assuming the sample is representative of the population, construct a 99% confidence interval for the mean number of characters printed before the print-head fails using the sample standard deviation. Explain the steps you take and the rationale behind using the t-distribution for this task.\n"
   ]
  },
  {
   "cell_type": "markdown",
   "id": "47440078-afd1-4e17-9651-c26caf6b7e1f",
   "metadata": {},
   "source": [
    "### <span style='color:#C0C78C'>EXPLANATION</span>\n",
    "#### WHY WE ARE USING T DISTRIBUTION FOR THIS QUESTION\n",
    "##### SAMPLE SIZE IS SMALL:\n",
    "    When the sample size is small (<30), the t-test is used becaues the standard deviation of the population is unknown, and the sample data might not closely follow a normal distribution (or we can say it is assumed to be following normal distribution).\n",
    "\n",
    "##### POPULATION STANDARD DEVIATION IS UNKNOWN\n",
    "    A t-test is used when the population standard deviation is unknown. If the population standard deviation were known, we could have used z-test. As we have only 15 sets of data, so we are bound to use t-test for finding the Confidence Interval."
   ]
  },
  {
   "cell_type": "markdown",
   "id": "ba95d6e2-caf7-4cbb-ac37-113494212d4f",
   "metadata": {},
   "source": [
    "### <span style='color:#C0C78C'>ANSWER TO TASK 1</span>\n",
    "##### FINDING THE CRITICAL VALUE\n",
    "    FORMULA => critical value = t(alpha/2, degree of freedom) \n",
    "    Use T-Table to find the value of the critical value, find dof in top of the t-table and alpha value at left most column.\n"
   ]
  },
  {
   "cell_type": "code",
   "execution_count": 17,
   "id": "97ffa972-a67a-4c7d-a72a-dd2abe70dab4",
   "metadata": {},
   "outputs": [
    {
     "name": "stdout",
     "output_type": "stream",
     "text": [
      "The finding of critical value is 2.98\n"
     ]
    }
   ],
   "source": [
    "import scipy.stats as stats\n",
    "\n",
    "#calculating critical value in t table\n",
    "cv = stats.t.ppf(1 - alpha/2, dof)\n",
    "print(f'The finding of critical value is {round(cv, 2)}')"
   ]
  },
  {
   "cell_type": "markdown",
   "id": "856a9f60-27fe-45bf-a764-2bd0a885ccfd",
   "metadata": {},
   "source": [
    "##### COMPUTING MARGIN OF ERROR\n",
    "    FORMULA = critical value * (standard deviation / square root of sample size)"
   ]
  },
  {
   "cell_type": "code",
   "execution_count": 13,
   "id": "d89c6d77-2ad7-4131-8abd-211903cdb4a7",
   "metadata": {},
   "outputs": [
    {
     "name": "stdout",
     "output_type": "stream",
     "text": [
      "We find the margin of error as 0.14\n"
     ]
    }
   ],
   "source": [
    "moe =  critical_value * (std / np.sqrt(n))\n",
    "print(f'We find the margin of error as {round(moe,2)}')"
   ]
  },
  {
   "cell_type": "markdown",
   "id": "678ceba8-d2ef-425c-a226-38af86cde832",
   "metadata": {},
   "source": [
    "##### FINDING THE UPPER AND LOWER BOUND\n",
    "    Upper Bound = Sample Mean + Margin of Error\n",
    "    Lower Bound = Sample Mean - Margin of Error"
   ]
  },
  {
   "cell_type": "code",
   "execution_count": 15,
   "id": "f42ded88-44dc-4115-ab97-6649db8f660e",
   "metadata": {},
   "outputs": [
    {
     "name": "stdout",
     "output_type": "stream",
     "text": [
      "The lower bound of the sample data is 1.1\n",
      "And the upper bound of the sample data is 1.38\n"
     ]
    }
   ],
   "source": [
    "upper_bound = mean + moe\n",
    "lower_bound = mean - moe\n",
    "\n",
    "print(f'The lower bound of the sample data is {round(lower_bound, 2)}')\n",
    "print(f'And the upper bound of the sample data is {round(upper_bound, 2)}')"
   ]
  },
  {
   "cell_type": "markdown",
   "id": "3bd98bd0-d860-47c6-b2d4-72861954bc8e",
   "metadata": {},
   "source": [
    "### <span style='color:#C7253E'>Function for T-Test</span>"
   ]
  },
  {
   "cell_type": "code",
   "execution_count": 6,
   "id": "eeb9b653-b11c-400c-adec-92304c245712",
   "metadata": {},
   "outputs": [],
   "source": [
    "import numpy as np\n",
    "import scipy.stats as stats\n",
    "def ttest(data, confidence_interval):\n",
    "    n=len(data)\n",
    "    sample_mean = np.mean(data)\n",
    "    sample_std = np.std(data)\n",
    "\n",
    "    t_critical = stats.t.ppf((1 + confidence_interval) / 2, df = n-1)\n",
    "    standard_error = sample_std / np.sqrt(n)\n",
    "\n",
    "    margin_of_error = t_critical * standard_error\n",
    "\n",
    "    lower_bound = sample_mean - margin_of_error\n",
    "    upper_bound = sample_mean + margin_of_error\n",
    "\n",
    "    return [round(lower_bound, 2), round(upper_bound, 2)]"
   ]
  },
  {
   "cell_type": "markdown",
   "id": "50da4862-1007-4f9d-969c-f01bab5f80e0",
   "metadata": {},
   "source": [
    "### <span style='color:#C7253E'>Evaluating the T-Test Function</span>"
   ]
  },
  {
   "cell_type": "code",
   "execution_count": 9,
   "id": "4efb65f7-0d42-40d1-8f50-552136ba7ff6",
   "metadata": {},
   "outputs": [
    {
     "name": "stdout",
     "output_type": "stream",
     "text": [
      "The lower bound is 1.1, and upper bound is 1.38\n"
     ]
    }
   ],
   "source": [
    "data = np.array([1.13, 1.55, 1.43, 0.92, 1.25, 1.36, 1.32, 0.85, 1.07, 1.48, 1.20, 1.33, 1.18, 1.22, 1.29])\n",
    "ci = 0.99\n",
    "result = ttest(data, ci)\n",
    "print(f'The lower bound is {result[0]}, and upper bound is {result[1]}')"
   ]
  },
  {
   "cell_type": "markdown",
   "id": "60e68963-c775-4711-a171-497b8d225dd9",
   "metadata": {},
   "source": [
    "### <span style='color:#FABC3F'>TASK 2:</span>\n",
    "##### <span style='color:#C7253E'>Build 99% Confidence Interval Using Known Population Standard Deviation</span>\n",
    "    If it were known that the population standard deviation is 0.2 million characters, construct a 99% confidence interval for the mean number of characters printed before failure.\n"
   ]
  },
  {
   "cell_type": "markdown",
   "id": "3ddd5ba6-f2f9-4cd8-b76e-60f22d909619",
   "metadata": {},
   "source": [
    "### <span style='color:#C0C78C'>EXPLANATION</span>\n",
    "#### WHY WE ARE USING Z-TEST FOR THIS QUESTION\n",
    "##### SAMPLE STANDARD DEVIATION IS KNONW\n",
    "    When we are getting a problem statement with known sample statndard deviation, we use z-test.\n",
    "\n",
    "##### SIZE OF THE SAMPLE DATA\n",
    "    The size of the sample data is not really matter in z-test, when we have a known sample standard deviation."
   ]
  },
  {
   "cell_type": "markdown",
   "id": "49adeac3-ac75-4a03-8d52-8b706f70a464",
   "metadata": {},
   "source": [
    "### <span style='color:#C0C78C'>ANSWER TO TASK 2</span>\n",
    "##### FINDING THECRITICAL VALUE\n",
    "    FORMULA  => Critical Value = z(alpha/2)\n",
    "    Use Z-Table to find the value of the critical value."
   ]
  },
  {
   "cell_type": "code",
   "execution_count": 21,
   "id": "bbfec6b3-c1bb-42be-a5ed-e88b961ab60c",
   "metadata": {},
   "outputs": [
    {
     "name": "stdout",
     "output_type": "stream",
     "text": [
      "We are getting 2.58 as critical value\n"
     ]
    }
   ],
   "source": [
    "z_critical = stats.norm.ppf(1 - alpha/2)\n",
    "print(f'We are getting {round(z_critical, 2)} as critical value')"
   ]
  },
  {
   "cell_type": "markdown",
   "id": "4c96805b-0724-4d04-a854-b10c17b47360",
   "metadata": {},
   "source": [
    "##### COMPUTING MARGIN OF ERROR\n",
    "    FORMULA = critical value * (standard deviation / square root of sample size)"
   ]
  },
  {
   "cell_type": "code",
   "execution_count": 22,
   "id": "34b5040f-098e-4d0e-9914-ba910a422e48",
   "metadata": {},
   "outputs": [
    {
     "name": "stdout",
     "output_type": "stream",
     "text": [
      "The margin of error found to be 0.12\n"
     ]
    }
   ],
   "source": [
    "z_moe = z_critical * (std / np.sqrt(n))\n",
    "print(f'The margin of error found to be {round(z_moe, 2)}')"
   ]
  },
  {
   "cell_type": "code",
   "execution_count": 23,
   "id": "c0385624-30ff-4717-b107-75e74cccf432",
   "metadata": {},
   "outputs": [
    {
     "name": "stdout",
     "output_type": "stream",
     "text": [
      "The lower bound of 99% CI is 1.11\n",
      "The upper bound of 99% CI is 1.36\n"
     ]
    }
   ],
   "source": [
    "# calculate the lower and upper bound\n",
    "z_low = mean - z_moe\n",
    "z_upp = mean + z_moe\n",
    "\n",
    "print(f'The lower bound of 99% CI is {round(z_low, 2)}')\n",
    "print(f'The upper bound of 99% CI is {round(z_upp, 2)}')"
   ]
  },
  {
   "cell_type": "markdown",
   "id": "aef7da50-86ea-43b3-a485-1ab9e8e6fa8c",
   "metadata": {},
   "source": [
    "### <span style='color:#C7253E'>Function for Z-Test</span>"
   ]
  },
  {
   "cell_type": "code",
   "execution_count": 12,
   "id": "ff11ce14-e5ff-4c72-8cdb-90b3605cedae",
   "metadata": {},
   "outputs": [],
   "source": [
    "import numpy as np\n",
    "import scipy.stats as stats\n",
    "\n",
    "def ztest(data, population_std, confidence_interval):\n",
    "    n = len(data)\n",
    "    sample_mean = np.mean(data)\n",
    "\n",
    "    z_critical = stats.norm.ppf((1 + confidence_interval) / 2)\n",
    "\n",
    "    standard_error = population_std / np.sqrt(n)\n",
    "\n",
    "    margin_of_error = z_critical * standard_error\n",
    "\n",
    "    lower_bound = sample_mean - margin_of_error\n",
    "    upper_bound = sample_mean + margin_of_error\n",
    "\n",
    "    return [round(lower_bound, 2), round(upper_bound, 2)]"
   ]
  },
  {
   "cell_type": "markdown",
   "id": "e2871b52-418e-493b-9324-39fc39b07f96",
   "metadata": {},
   "source": [
    "### <span style='color:#C7253E'>Evaluating the function for Z-Test</span>"
   ]
  },
  {
   "cell_type": "code",
   "execution_count": 13,
   "id": "5fed90d6-8312-4895-b600-b897b88d239c",
   "metadata": {},
   "outputs": [
    {
     "name": "stdout",
     "output_type": "stream",
     "text": [
      "The lower bound is 1.11, and upper bound is 1.37\n"
     ]
    }
   ],
   "source": [
    "data = np.array([1.13, 1.55, 1.43, 0.92, 1.25, 1.36, 1.32, 0.85, 1.07, 1.48, 1.20, 1.33, 1.18, 1.22, 1.29])\n",
    "ci = 0.99\n",
    "p_std = 0.2\n",
    "result = ztest(data,p_std, ci)\n",
    "print(f'The lower bound is {result[0]}, and upper bound is {result[1]}')"
   ]
  },
  {
   "cell_type": "markdown",
   "id": "1d974dc8-be48-4724-9727-1036ccf93b0f",
   "metadata": {},
   "source": [
    "### <span style='color:#C0C78C'>Summary of Confidence Intervals:</span>\n",
    "##### Using the sample standard deviation (t-distribution):\n",
    "    (1.11, 1.38) OR (1.11,1.38) million characters\n",
    "\n",
    "##### Using the known population standard deviation (z-distribution):\n",
    "    (1.11, 1.36) OR (1.11, 1.36) million characters"
   ]
  }
 ],
 "metadata": {
  "kernelspec": {
   "display_name": "Python 3 (ipykernel)",
   "language": "python",
   "name": "python3"
  },
  "language_info": {
   "codemirror_mode": {
    "name": "ipython",
    "version": 3
   },
   "file_extension": ".py",
   "mimetype": "text/x-python",
   "name": "python",
   "nbconvert_exporter": "python",
   "pygments_lexer": "ipython3",
   "version": "3.11.5"
  }
 },
 "nbformat": 4,
 "nbformat_minor": 5
}
